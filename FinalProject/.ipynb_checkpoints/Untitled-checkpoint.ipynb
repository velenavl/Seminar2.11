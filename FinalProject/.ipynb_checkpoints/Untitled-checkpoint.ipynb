{
 "cells": [
  {
   "cell_type": "code",
   "execution_count": 26,
   "id": "0fb7bfe8",
   "metadata": {},
   "outputs": [],
   "source": [
    "from sympy import *"
   ]
  },
  {
   "cell_type": "code",
   "execution_count": 27,
   "id": "c2742148",
   "metadata": {},
   "outputs": [
    {
     "name": "stdout",
     "output_type": "stream",
     "text": [
      "(1-5.385164807134504j) (1+5.385164807134504j)\n"
     ]
    }
   ],
   "source": [
    "# 1 Определить корни\n",
    "\n",
    "x = Symbol('x')\n",
    "func=-5*x**2+10*x-150\n",
    "y=solve(func)\n",
    "x1=complex(y[0])\n",
    "x2=complex(y[1])\n",
    "print(x1,x2)"
   ]
  },
  {
   "cell_type": "code",
   "execution_count": 28,
   "id": "4a5c6f0a",
   "metadata": {},
   "outputs": [
    {
     "name": "stdout",
     "output_type": "stream",
     "text": [
      "(-oo < x) & (x < 1)\n"
     ]
    }
   ],
   "source": [
    "# 2 Найти интервалы, на которых функция возрастает\n",
    "\n",
    "fd=diff(func)\n",
    "print(solve(0<fd))"
   ]
  },
  {
   "cell_type": "code",
   "execution_count": 29,
   "id": "44fcd8c3",
   "metadata": {},
   "outputs": [
    {
     "name": "stdout",
     "output_type": "stream",
     "text": [
      "(1 < x) & (x < oo)\n"
     ]
    }
   ],
   "source": [
    "# 3 Найти интервалы, на которых функция убывает\n",
    "\n",
    "print(solve(fd<0))"
   ]
  },
  {
   "cell_type": "code",
   "execution_count": 30,
   "id": "9a90f14a",
   "metadata": {},
   "outputs": [
    {
     "name": "stdout",
     "output_type": "stream",
     "text": [
      "[-325, -270, -225, -190, -165, -150, -145, -150, -165, -190, -225]\n"
     ]
    },
    {
     "data": {
      "text/plain": [
       "[<matplotlib.lines.Line2D at 0x21371d220d0>]"
      ]
     },
     "execution_count": 30,
     "metadata": {},
     "output_type": "execute_result"
    },
    {
     "data": {
      "image/png": "[encoded data removed]",
      "text/plain": [
       "<Figure size 640x480 with 1 Axes>"
      ]
     },
     "metadata": {},
     "output_type": "display_data"
    }
   ],
   "source": [
    "# 4 Построить график\n",
    "\n",
    "import matplotlib.pyplot as plt\n",
    "list_y=[]\n",
    "for i in range(-5,6):\n",
    "    x=i\n",
    "    y=-5*x**2+10*x-150\n",
    "    list_y.append(y)\n",
    "print(list_y)\n",
    "plt.plot(range(-5,6),[0,0,0,0,0,0,0,0,0,0,0])\n",
    "plt.plot(range(-5,6),list_y)"
   ]
  },
  {
   "cell_type": "code",
   "execution_count": 31,
   "id": "c168d433",
   "metadata": {},
   "outputs": [
    {
     "name": "stdout",
     "output_type": "stream",
     "text": [
      "1 -145\n"
     ]
    }
   ],
   "source": [
    "# 5 Вычислить вершину\n",
    "\n",
    "corni=solve(fd)\n",
    "top=corni[0]\n",
    "x=top\n",
    "y=-5*x**2+10*x-150\n",
    "print(top,y)"
   ]
  },
  {
   "cell_type": "code",
   "execution_count": 32,
   "id": "8449ba5c",
   "metadata": {},
   "outputs": [
    {
     "data": {
      "text/latex": [
       "$\\displaystyle \\text{False}$"
      ],
      "text/plain": [
       "False"
      ]
     },
     "execution_count": 32,
     "metadata": {},
     "output_type": "execute_result"
    }
   ],
   "source": [
    "# 6 Определить промежутки, на котором f > 0\n",
    "\n",
    "solve(0<func)"
   ]
  },
  {
   "cell_type": "code",
   "execution_count": 33,
   "id": "273ad832",
   "metadata": {},
   "outputs": [
    {
     "data": {
      "text/latex": [
       "$\\displaystyle -\\infty < x \\wedge x < \\infty$"
      ],
      "text/plain": [
       "(-oo < x) & (x < oo)"
      ]
     },
     "execution_count": 33,
     "metadata": {},
     "output_type": "execute_result"
    }
   ],
   "source": [
    "# 7 Определить промежутки, на котором f < 0\n",
    "\n",
    "solve(func<0)"
   ]
  }
 ],
 "metadata": {
  "kernelspec": {
   "display_name": "Python 3 (ipykernel)",
   "language": "python",
   "name": "python3"
  },
  "language_info": {
   "codemirror_mode": {
    "name": "ipython",
    "version": 3
   },
   "file_extension": ".py",
   "mimetype": "text/x-python",
   "name": "python",
   "nbconvert_exporter": "python",
   "pygments_lexer": "ipython3",
   "version": "3.9.13"
  }
 },
 "nbformat": 4,
 "nbformat_minor": 5
}
